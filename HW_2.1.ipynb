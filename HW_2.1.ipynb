{
 "cells": [
  {
   "cell_type": "markdown",
   "id": "944f057a-0458-4e8f-97c6-e0395f66c0eb",
   "metadata": {},
   "source": [
    "Task 2.1 \n",
    "Compare SVD and Randomized SVD."
   ]
  },
  {
   "cell_type": "code",
   "execution_count": 4,
   "id": "48d23024-99ad-4f1b-a7cc-22e4cb318d60",
   "metadata": {},
   "outputs": [
    {
     "name": "stdout",
     "output_type": "stream",
     "text": [
      "SVD Error: 0.00011121897887396202\n",
      "Randomized SVD Error(SCIPY): 2.75811679034294e-07\n",
      "Randomized SVD Error : 2.758116843622128e-07\n"
     ]
    }
   ],
   "source": [
    "import numpy as np\n",
    "from scipy.linalg import svd\n",
    "\n",
    "n = 2048\n",
    "r1 = 10\n",
    "r2 = 15\n",
    "\n",
    "#SVD\n",
    "A = np.fromfunction(lambda i, j: 1/(i+j+1), (n, n), dtype=float)\n",
    "U, S, Vt = np.linalg.svd(A, full_matrices=False)\n",
    "\n",
    "A_svd = np.matrix(U[:, :r1]) * np.diag(S[:r1]) * np.matrix(Vt[:r1,:])\n",
    "err_svd = np.linalg.norm(A - A_svd, 'fro')\n",
    "\n",
    "print(\"SVD Error:\", err_svd)\n",
    "\n",
    "#Randomized SVD by SCIPY\n",
    "U_rand, S_rand, Vt_rand = svd(A, full_matrices=False)\n",
    "\n",
    "A_svd_rand = np.dot(U_rand[:, :r2], np.dot(np.diag(S_rand[:r2]), Vt_rand[:r2, :]))\n",
    "err_svd_rand = np.linalg.norm(A - A_svd_rand, 'fro')\n",
    "\n",
    "print(\"Randomized SVD Error(SCIPY):\", err_svd_rand)\n",
    "\n",
    "\n",
    "#R-SVD\n",
    "def randomized_svd(A, rank):\n",
    "    n, m = A.shape\n",
    "    Omega = np.random.randn(m, rank + 8) \n",
    "    Y = np.dot(A, Omega)\n",
    "    Q, _ = np.linalg.qr(Y, mode='reduced')\n",
    "    B = np.dot(Q.T, A)\n",
    "    U_t, S, Vt = np.linalg.svd(B, full_matrices=False)\n",
    "    U = np.dot(Q, U_t)\n",
    "    return U[:, :rank], S[:rank], Vt[:rank, :]\n",
    "\n",
    "U_r, S_r, Vt_r = randomized_svd(A, r2)\n",
    "\n",
    "A_svd_r = np.dot(U_r, np.dot(np.diag(S_r), Vt_r))\n",
    "err_svd_r = np.linalg.norm(A - A_svd_r, 'fro')\n",
    "\n",
    "print(\"Randomized SVD Error :\", err_svd_r)"
   ]
  },
  {
   "cell_type": "code",
   "execution_count": null,
   "id": "76467073-b797-4cf7-828a-0cdf33625746",
   "metadata": {},
   "outputs": [],
   "source": []
  }
 ],
 "metadata": {
  "kernelspec": {
   "display_name": "Python 3 (ipykernel)",
   "language": "python",
   "name": "python3"
  },
  "language_info": {
   "codemirror_mode": {
    "name": "ipython",
    "version": 3
   },
   "file_extension": ".py",
   "mimetype": "text/x-python",
   "name": "python",
   "nbconvert_exporter": "python",
   "pygments_lexer": "ipython3",
   "version": "3.10.12"
  }
 },
 "nbformat": 4,
 "nbformat_minor": 5
}
